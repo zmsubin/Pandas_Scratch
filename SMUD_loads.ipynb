{
 "cells": [
  {
   "cell_type": "code",
   "execution_count": null,
   "metadata": {},
   "outputs": [],
   "source": [
    "import pandas as pd\n",
    "import os\n",
    "\n",
    "directory = r'S:\\ZacharySubins_Documents\\SMUD IRP\\SMUD Data'\n",
    "infile = 'Load Forecast Components PST 1312018.csv'\n",
    "outfile = 'SMUD Load Summary.csv'\n",
    "\n",
    "df = pd.read_csv(os.path.join(directory, infile), header=0, index_col=[0, 1])\n",
    "\n",
    "df = df.groupby(['Load Year']).sum() # MWhr\n",
    "\n",
    "# export\n",
    "df.to_csv(os.path.join(directory, outfile))"
   ]
  }
 ],
 "metadata": {
  "language": "python"
 },
 "nbformat": 4,
 "nbformat_minor": 2
}
